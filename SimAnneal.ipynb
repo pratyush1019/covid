{
 "cells": [
  {
   "cell_type": "code",
   "execution_count": 136,
   "metadata": {},
   "outputs": [],
   "source": [
    "import torch\n",
    "import torch.nn as nn\n",
    "import torch.nn.functional as F"
   ]
  },
  {
   "cell_type": "code",
   "execution_count": 137,
   "metadata": {},
   "outputs": [],
   "source": [
    "m = 300\n",
    "n = 1000\n",
    "beta = torch.ones([m, n], dtype=torch.float64)\n",
    "theta = torch.rand([m, n], dtype=torch.float64)"
   ]
  },
  {
   "cell_type": "code",
   "execution_count": 138,
   "metadata": {},
   "outputs": [],
   "source": [
    "def f(b,th,i):\n",
    "    beta = torch.ones([m, n], dtype=torch.float64)\n",
    "    theta = torch.ones([m, n], dtype=torch.float64)\n",
    "    beta = b.detach().clone()\n",
    "    theta = th.detach().clone()\n",
    "    beta.requires_grad = True\n",
    "    theta.requires_grad = True\n",
    "    for epoch in range(500):\n",
    "        A = torch.sigmoid(beta*theta)\n",
    "        M = torch.matmul(torch.t(A), A)\n",
    "        loss = torch.norm(M-I) + lam*torch.norm(theta)\n",
    "        if (epoch%100==0):\n",
    "            print('iteration: ',i+1,'epoch: ',epoch,'Loss: ',loss.item())\n",
    "        loss.backward()\n",
    "        with torch.no_grad():\n",
    "            theta -= lr * theta.grad\n",
    "        theta.grad.zero_()\n",
    "    return beta, theta"
   ]
  },
  {
   "cell_type": "code",
   "execution_count": null,
   "metadata": {},
   "outputs": [
    {
     "name": "stdout",
     "output_type": "stream",
     "text": [
      "iteration 1 epoch 0 F-norm 115672.17794526693\n",
      "iteration 1 epoch 100 F-norm 4124.90907924909\n",
      "iteration 1 epoch 200 F-norm 2813.921617305497\n",
      "iteration 1 epoch 300 F-norm 2481.4836354533422\n",
      "iteration 1 epoch 400 F-norm 2346.288129527891\n",
      "iteration 2 epoch 0 F-norm 1441.1579376715567\n",
      "iteration 2 epoch 100 F-norm 1257.797904764622\n",
      "iteration 2 epoch 200 F-norm 1214.4765720114858\n",
      "iteration 2 epoch 300 F-norm 1199.16503592605\n",
      "iteration 2 epoch 400 F-norm 1192.735041658975\n",
      "iteration 3 epoch 0 F-norm 683.0900144742593\n",
      "iteration 3 epoch 100 F-norm 651.7292988747927\n",
      "iteration 3 epoch 200 F-norm 647.3329950692298\n",
      "iteration 3 epoch 300 F-norm 646.425447326118\n",
      "iteration 3 epoch 400 F-norm 646.2106109037069\n",
      "iteration 4 epoch 0 F-norm 364.33575908052984\n",
      "iteration 4 epoch 100 F-norm 354.9301520710981\n",
      "iteration 4 epoch 200 F-norm 354.7177321596541\n",
      "iteration 4 epoch 300 F-norm 354.7096731022983\n",
      "iteration 4 epoch 400 F-norm 354.70934052301766\n",
      "iteration 5 epoch 0 F-norm 203.74581582553085\n",
      "iteration 5 epoch 100 F-norm 200.05164584015444\n",
      "iteration 5 epoch 200 F-norm 200.05077059815414\n",
      "iteration 5 epoch 300 F-norm 200.05077016843094\n",
      "iteration 5 epoch 400 F-norm 200.0507701683893\n",
      "iteration 6 epoch 0 F-norm 120.52833664631105\n",
      "iteration 6 epoch 100 F-norm 118.9506476568699\n",
      "iteration 6 epoch 200 F-norm 118.95064764111922\n",
      "iteration 6 epoch 300 F-norm 118.9506476412323\n",
      "iteration 6 epoch 400 F-norm 118.95064764124552\n"
     ]
    }
   ],
   "source": [
    "I = torch.eye(n, dtype=torch.float64)\n",
    "import torch.optim as optim\n",
    "\n",
    "lr = 0.1\n",
    "lam = 2\n",
    "for i in range(10):\n",
    "    beta = 2*beta\n",
    "    theta = 0.5*theta\n",
    "    beta, theta = f(beta,theta,i)\n",
    "    "
   ]
  },
  {
   "cell_type": "code",
   "execution_count": 131,
   "metadata": {},
   "outputs": [
    {
     "name": "stdout",
     "output_type": "stream",
     "text": [
      "tensor([[-0.9953,  0.0047,  0.0047,  ...,  0.0047,  0.0047,  0.0047],\n",
      "        [ 0.0047, -0.9953,  0.0047,  ...,  0.0047,  0.0047,  0.0047],\n",
      "        [ 0.0047,  0.0047, -0.9953,  ...,  0.0047,  0.0047,  0.0047],\n",
      "        ...,\n",
      "        [ 0.0047,  0.0047,  0.0047,  ..., -0.9953,  0.0047,  0.0047],\n",
      "        [ 0.0047,  0.0047,  0.0047,  ...,  0.0047, -0.9953,  0.0047],\n",
      "        [ 0.0047,  0.0047,  0.0047,  ...,  0.0047,  0.0047, -0.9953]],\n",
      "       dtype=torch.float64, grad_fn=<SubBackward0>)\n"
     ]
    }
   ],
   "source": [
    "A = torch.sigmoid(beta*theta)\n",
    "M = torch.matmul(torch.t(A), A)\n",
    "print('A',A)\n",
    "print(M-I)"
   ]
  },
  {
   "cell_type": "code",
   "execution_count": null,
   "metadata": {},
   "outputs": [],
   "source": []
  }
 ],
 "metadata": {
  "kernelspec": {
   "display_name": "Python 3",
   "language": "python",
   "name": "python3"
  },
  "language_info": {
   "codemirror_mode": {
    "name": "ipython",
    "version": 3
   },
   "file_extension": ".py",
   "mimetype": "text/x-python",
   "name": "python",
   "nbconvert_exporter": "python",
   "pygments_lexer": "ipython3",
   "version": "3.7.4"
  }
 },
 "nbformat": 4,
 "nbformat_minor": 2
}
